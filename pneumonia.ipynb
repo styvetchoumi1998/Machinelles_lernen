{
 "cells": [
  {
   "cell_type": "code",
   "execution_count": 1,
   "id": "initial_id",
   "metadata": {
    "ExecuteTime": {
     "end_time": "2025-01-23T23:15:39.625910Z",
     "start_time": "2025-01-23T23:15:39.610522Z"
    },
    "collapsed": true
   },
   "outputs": [],
   "source": [
    "import pandas as pd\n",
    "import glob\n",
    "import random\n",
    "import os\n",
    "import cv2\n",
    "from sklearn.utils import shuffle\n",
    "from numpy.random import seed\n",
    "import numpy as np\n",
    "from tensorflow.random import set_seed\n",
    "import warnings\n",
    "import matplotlib.pyplot as plt\n",
    "%matplotlib inline\n",
    "\n",
    "pd.options.display.max_colwidth = 100\n",
    "seed(42)\n",
    "random.seed(42)\n",
    "os.environ['PYTHONHASHSEED'] = str(42)\n",
    "set_seed(42)\n",
    "warnings.filterwarnings('ignore')\n",
    "\n",
    "img_size = 256\n",
    "batch_size = 64\n",
    "seed = 42"
   ]
  },
  {
   "cell_type": "code",
   "execution_count": 23,
   "id": "3d13b7f2b19199c2",
   "metadata": {
    "ExecuteTime": {
     "end_time": "2025-01-24T01:42:46.797759Z",
     "start_time": "2025-01-24T01:42:46.715440Z"
    }
   },
   "outputs": [],
   "source": [
    "main_path = \"../chest_xray/\"\n",
    "\n",
    "train_path = os.path.join(main_path,\"train\")\n",
    "test_path=os.path.join(main_path,\"test\")\n",
    "validation_path = os.path.join(main_path,\"val\")\n",
    "\n",
    "train_normal = glob.glob(train_path+\"/NORMAL/*.jpeg\")\n",
    "train_pneumonia = glob.glob(train_path+\"/PNEUMONIA/*.jpeg\")\n",
    "\n",
    "val_normal = glob.glob(validation_path+\"/NORMAL/*.jpeg\")\n",
    "val_pneumonia = glob.glob(validation_path+\"/PNEUMONIA/*.jpeg\")\n",
    "\n",
    "test_normal = glob.glob(test_path+\"/NORMAL/*.jpeg\")\n",
    "test_pneumonia = glob.glob(test_path+\"/PNEUMONIA/*.jpeg\")\n",
    "\n",
    "\n",
    "#create list of paths\n",
    "train_list = [x for x in train_normal]\n",
    "train_list.extend([x for x in train_pneumonia])\n",
    "\n",
    "test_list = [x for x in test_normal]\n",
    "test_list.extend([x for x in test_pneumonia])\n",
    "\n",
    "val_list = [x for x in val_normal]\n",
    "val_list.extend([x for x in val_pneumonia])"
   ]
  },
  {
   "cell_type": "code",
   "execution_count": null,
   "id": "51e11e960294481f",
   "metadata": {
    "ExecuteTime": {
     "end_time": "2025-01-23T23:16:25.219102Z",
     "start_time": "2025-01-23T23:15:49.794972Z"
    }
   },
   "outputs": [],
   "source": [
    "dic_data = {\"train\":[train_normal, train_pneumonia], \"test\":[test_normal, test_pneumonia] , \"val\":[val_normal, val_pneumonia]}\n",
    "for key, value in dic_data.items():\n",
    "    classes = [0]*len(value[0])    # Normal : 0 and Pneunomia : 1\n",
    "    classes.extend([1]*len(value[1]))\n",
    "    images_path = [x for x in value[0]]\n",
    "    images_path.extend([x for x in value[1]])\n",
    "    data = []\n",
    "    i = 0\n",
    "    for img_path in images_path:\n",
    "        img = cv2.imread(img_path, cv2.IMREAD_GRAYSCALE)\n",
    "\n",
    "        if img is None:\n",
    "            continue\n",
    "        # resize image shape\n",
    "        img = cv2.resize(img, (img_size, img_size))\n",
    "        #normalize image\n",
    "        img = img/255.0\n",
    "\n",
    "        data.append([img, classes[i]])\n",
    "        i = i+1\n",
    "    df = pd.DataFrame(data, columns=['image', 'label'])\n",
    "    print(f\"{key} shape : {df.shape}\")\n",
    "    df.to_pickle(f\"{key}.pkl\")"
   ]
  },
  {
   "cell_type": "code",
   "execution_count": 4,
   "id": "5520b01b27fe4c2",
   "metadata": {
    "ExecuteTime": {
     "end_time": "2025-01-23T23:17:45.084107Z",
     "start_time": "2025-01-23T23:17:42.659340Z"
    }
   },
   "outputs": [],
   "source": [
    "#read saved formated images\n",
    "df_train  = pd.read_pickle(os.path.join(main_path,\"train.pkl\"))\n",
    "df_test = pd.read_pickle(os.path.join(main_path,\"test.pkl\"))\n",
    "df_val = pd.read_pickle(os.path.join(main_path,\"val.pkl\"))"
   ]
  },
  {
   "cell_type": "markdown",
   "id": "52b7438e976264b4",
   "metadata": {},
   "source": [
    "### Reshape the loaded images"
   ]
  },
  {
   "cell_type": "code",
   "execution_count": 5,
   "id": "529a29e7d19c6d5c",
   "metadata": {
    "ExecuteTime": {
     "end_time": "2025-01-23T23:18:08.659998Z",
     "start_time": "2025-01-23T23:17:49.334151Z"
    }
   },
   "outputs": [],
   "source": [
    "X_train, y_train = np.array([ img.reshape(img_size,img_size, 1) for img in df_train['image']]), np.array(df_train['label'])\n",
    "X_train, y_train = shuffle(X_train, y_train, random_state=42)\n",
    "X_val, y_val = np.array([ img.reshape(img_size,img_size, 1) for img in df_val['image']]), np.array(df_val['label'])\n",
    "X_val, y_val = shuffle(X_val, y_val, random_state=42)\n",
    "X_test, y_test = np.array([ img.reshape(img_size,img_size, 1) for img in df_test['image']]), np.array(df_test['label'])\n",
    "X_test, y_test = shuffle(X_test, y_test, random_state=42)"
   ]
  },
  {
   "cell_type": "markdown",
   "id": "3f5c1daa0534df19",
   "metadata": {},
   "source": [
    "#### Histogram"
   ]
  },
  {
   "cell_type": "code",
   "execution_count": null,
   "id": "959cb8287263ae32",
   "metadata": {
    "ExecuteTime": {
     "end_time": "2025-01-23T22:56:52.567296Z",
     "start_time": "2025-01-23T22:56:52.005114Z"
    }
   },
   "outputs": [],
   "source": [
    "import os\n",
    "import pandas as pd\n",
    "import matplotlib.pyplot as plt\n",
    "import seaborn as sns\n",
    "\n",
    "# Define class names (replace with your actual class names)\n",
    "class_names = ['Normal', 'Pneumonia']\n",
    "\n",
    "# Set style\n",
    "sns.set_style(\"whitegrid\")  # Clean grid background\n",
    "plt.style.use('seaborn')  # Modern and professional style\n",
    "\n",
    "# Create subplots\n",
    "fig, axes = plt.subplots(1, 3, figsize=(18, 6))\n",
    "labels = ['Train', 'Validation', 'Test']\n",
    "list_df = [df_train, df_val, df_test]\n",
    "\n",
    "# Define a colorblind-friendly color scheme\n",
    "colors = ['#1f77b4', '#ff7f0e']  # Blue and orange\n",
    "\n",
    "# Function to calculate and print class distribution percentages\n",
    "def distribution_percentages(list_df, labels):\n",
    "    for i, df in enumerate(list_df):\n",
    "        class_counts = df['label'].value_counts(normalize=True) * 100\n",
    "        print(f\"{labels[i]} Class Distribution:\")\n",
    "        for label, percentage in zip(class_counts.index, class_counts.values):\n",
    "            print(f\"Class '{label}': {percentage:.2f}%\")\n",
    "\n",
    "\n",
    "\n",
    "# Plot bar plots for each dataset\n",
    "for i, ax in enumerate(axes):\n",
    "    # Count the number of samples in each class\n",
    "    class_counts = list_df[i]['label'].value_counts().sort_index()\n",
    "    \n",
    "    # Create a bar plot\n",
    "    bars = ax.bar(class_counts.index, class_counts.values, color=colors, edgecolor='black', linewidth=1.2)\n",
    "    \n",
    "    # Add labels and title\n",
    "    ax.set_title(f'{labels[i]} (Total: {len(list_df[i])})', fontsize=16, fontweight='bold', pad=20)\n",
    "    ax.set_xlabel('Class', fontsize=14, fontweight='bold')\n",
    "    ax.set_ylabel('Number of Samples', fontsize=14, fontweight='bold')\n",
    "    \n",
    "    # Set x-ticks and labels\n",
    "    ax.set_xticks(class_counts.index)\n",
    "    ax.set_xticklabels(class_names, fontsize=14)\n",
    "    \n",
    "    # Add value labels on top of each bar\n",
    "    for bar in bars:\n",
    "        height = bar.get_height()\n",
    "        ax.text(bar.get_x() + bar.get_width() / 2, height + 0.5, str(int(height)),\n",
    "                ha='center', va='bottom', fontsize=14, fontweight='bold')\n",
    "    \n",
    "    # Add gridlines\n",
    "    ax.grid(axis='y', linestyle='--', alpha=0.7)\n",
    "    \n",
    "    # Set y-axis limit for better spacing\n",
    "    ax.set_ylim(0, max(class_counts.values) + 2)\n",
    "\n",
    "# Add a main title for the entire figure\n",
    "fig.suptitle('Class Distribution Across Datasets', fontsize=20, fontweight='bold', y=1.05)\n",
    "\n",
    "# Add a legend\n",
    "handles = [plt.Rectangle((0, 0), 1, 1, color=colors[i], edgecolor='black') for i in range(len(class_names))]\n",
    "fig.legend(handles, class_names, title='Classes', loc='upper right', bbox_to_anchor=(1.0, 1.0), fontsize=12, title_fontsize=14)\n",
    "\n",
    "# Adjust layout\n",
    "plt.tight_layout()\n",
    "\n",
    "# Save the plot as a high-resolution image\n",
    "plt.savefig('class_distribution_professional.png', dpi=300, bbox_inches='tight')\n",
    "\n",
    "# Show the plot\n",
    "plt.show()\n",
    "\n"
   ]
  },
  {
   "cell_type": "markdown",
   "id": "c0c0a1fc868ca646",
   "metadata": {},
   "source": [
    "### Build CNN model from keras"
   ]
  },
  {
   "cell_type": "code",
   "execution_count": null,
   "id": "8f7c365360b90355",
   "metadata": {
    "ExecuteTime": {
     "start_time": "2025-01-24T02:10:21.484089Z"
    },
    "jupyter": {
     "is_executing": true
    }
   },
   "outputs": [],
   "source": [
    "from tensorflow.keras.models import Sequential\n",
    "from tensorflow.keras.layers import Conv2D, MaxPooling2D, Flatten, Dense\n",
    "from tensorflow.keras.metrics import Precision, Recall\n",
    "from tensorflow.keras.callbacks import ModelCheckpoint\n",
    "import numpy as np\n",
    "import visualkeras\n",
    "\n",
    "# Define the model\n",
    "model = Sequential([\n",
    "    Conv2D(32, (3, 3), activation='relu', input_shape=(256, 256, 1)),\n",
    "    MaxPooling2D((2, 2)),\n",
    "    Conv2D(64, (3, 3), activation='relu'),\n",
    "    MaxPooling2D((2, 2)),\n",
    "    Conv2D(128, (3, 3), activation='relu'),\n",
    "    MaxPooling2D((2, 2)),\n",
    "    Flatten(),\n",
    "    Dense(64, activation='relu'),\n",
    "    Dense(1, activation='sigmoid')  # Binary classification\n",
    "])\n",
    "\n",
    "# Compile the model with precision and recall metrics\n",
    "model.compile(optimizer='adam',\n",
    "              loss='binary_crossentropy',\n",
    "              metrics=[Precision(name='precision'), Recall(name='recall')])\n",
    "\n",
    "\n",
    "# Visualize the model using visualkeras\n",
    "visualkeras.layered_view(\n",
    "    model,\n",
    "    legend=True,  # Add a legend\n",
    "    scale_xy=15,  # Scale the diagram\n",
    "    scale_z=1,    # Control the height of 3D-like layers\n",
    "    spacing=50,   # Add spacing between layers\n",
    "    to_file='model_diagram.png'  # Save as a high-quality image\n",
    ").show()\n",
    "\n",
    "# Define the ModelCheckpoint callback\n",
    "checkpoint = ModelCheckpoint('best_model.h5',\n",
    "                             monitor='val_recall',\n",
    "                             save_best_only=True,\n",
    "                             mode='max',\n",
    "                             verbose=1)\n",
    "\n",
    "# Compute class weights\n",
    "from sklearn.utils.class_weight import compute_class_weight\n",
    "class_weights = compute_class_weight(class_weight='balanced', classes=np.unique(y_train), y=y_train)\n",
    "class_weights_dict = {i: weight for i, weight in enumerate(class_weights)}\n",
    "print(\"Class Weights:\", class_weights_dict)\n",
    "\n",
    "# Train the model\n",
    "history = model.fit(X_train, \n",
    "                    y_train,\n",
    "                    batch_size=batch_size,\n",
    "                    epochs=12,\n",
    "                    validation_data=(X_val, y_val),\n",
    "                    class_weight=class_weights_dict)\n",
    "                    #callbacks=[checkpoint])"
   ]
  },
  {
   "cell_type": "code",
   "execution_count": null,
   "id": "8f4c910ad5384b21",
   "metadata": {
    "ExecuteTime": {
     "end_time": "2025-01-24T01:40:03.114474Z",
     "start_time": "2025-01-24T01:39:58.820381Z"
    }
   },
   "outputs": [],
   "source": [
    "from sklearn.metrics import confusion_matrix, classification_report, roc_curve, auc, precision_recall_curve\n",
    "import numpy as np\n",
    "import seaborn as sns\n",
    "import matplotlib.pyplot as plt\n",
    "from sklearn.utils import class_weight\n",
    "\n",
    "# Predict probabilities\n",
    "y_pred = model.predict(X_test)\n",
    "\n",
    "# If y_test is one-hot encoded, convert it to 1D array\n",
    "if y_test.ndim > 1:\n",
    "    y_test = np.argmax(y_test, axis=1)\n",
    "\n",
    "# Adjust threshold using ROC curve analysis\n",
    "fpr, tpr, thresholds = roc_curve(y_test, y_pred)\n",
    "optimal_idx = np.argmax(tpr - fpr)  # Find the threshold that maximizes TPR - FPR\n",
    "optimal_threshold = thresholds[optimal_idx]\n",
    "print(f\"Optimal Threshold: {optimal_threshold}\")\n",
    "\n",
    "# Convert probabilities to binary predictions using the optimal threshold\n",
    "y_pred_classes = (y_pred > optimal_threshold).astype(int)\n",
    "\n",
    "# Compute confusion matrix\n",
    "conf_matrix = confusion_matrix(y_test, y_pred_classes)\n",
    "print(\"Confusion Matrix:\\n\", conf_matrix)\n",
    "\n",
    "# Generate classification report\n",
    "print(classification_report(y_test, y_pred_classes, target_names=['Normal', 'Pneumonia']))\n",
    "\n",
    "# Plot heatmap for confusion matrix\n",
    "plt.figure(figsize=(8, 6))\n",
    "sns.heatmap(conf_matrix, annot=True, fmt='d', cmap='Blues', \n",
    "            xticklabels=['Normal', 'Pneumonia'], \n",
    "            yticklabels=['Normal', 'Pneumonia'])\n",
    "plt.title('Confusion Matrix')\n",
    "plt.xlabel('Predicted Label')\n",
    "plt.ylabel('True Label')\n",
    "plt.show()\n",
    "\n",
    "# Compute and plot ROC curve\n",
    "roc_auc = auc(fpr, tpr)\n",
    "plt.figure()\n",
    "plt.plot(fpr, tpr, color='darkorange', lw=2, label=f'ROC curve (area = {roc_auc:.2f})')\n",
    "plt.plot([0, 1], [0, 1], color='navy', lw=2, linestyle='--')\n",
    "plt.xlabel('False Positive Rate')\n",
    "plt.ylabel('True Positive Rate')\n",
    "plt.title('Receiver Operating Characteristic (ROC) Curve')\n",
    "plt.legend(loc=\"lower right\")\n",
    "plt.show()\n",
    "\n",
    "# Compute and plot Precision-Recall curve\n",
    "precision, recall, _ = precision_recall_curve(y_test, y_pred)\n",
    "pr_auc = auc(recall, precision)\n",
    "plt.figure()\n",
    "plt.plot(recall, precision, color='blue', lw=2, label=f'PR curve (area = {pr_auc:.2f})')\n",
    "plt.xlabel('Recall')\n",
    "plt.ylabel('Precision')\n",
    "plt.title('Precision-Recall Curve')\n",
    "plt.legend(loc=\"lower left\")\n",
    "plt.show()\n",
    "\n",
    "# Address class imbalance using class weighting\n",
    "class_weights = class_weight.compute_class_weight('balanced', classes=np.unique(y_test), y=y_test)\n",
    "class_weights = dict(enumerate(class_weights))\n",
    "print(f\"Class Weights: {class_weights}\")\n",
    "\n",
    "# Retrain the model with class weights (if you have access to the training process)\n",
    "# model.fit(X_train, y_train, class_weight=class_weights)\n"
   ]
  },
  {
   "cell_type": "code",
   "execution_count": null,
   "id": "46c90c2d",
   "metadata": {},
   "outputs": [],
   "source": [
    "import matplotlib.pyplot as plt\n",
    "\n",
    "# Plot training & validation accuracy values\n",
    "plt.figure(figsize=(12, 6))\n",
    "\n",
    "# Plot loss\n",
    "plt.subplot(1, 2, 1)\n",
    "plt.plot(history.history['loss'], label='Train Loss')\n",
    "plt.plot(history.history['val_loss'], label='Validation Loss')\n",
    "plt.title('Model Loss')\n",
    "plt.xlabel('Epoch')\n",
    "plt.ylabel('Loss')\n",
    "plt.legend()\n",
    "\n",
    "# Plot accuracy (if available)\n",
    "plt.subplot(1, 2, 2)\n",
    "plt.plot(history.history['precision'], label='Train Precision')  # Replace with your metric\n",
    "plt.plot(history.history['val_precision'], label='Validation Precision')\n",
    "plt.title('Model Precision')\n",
    "plt.xlabel('Epoch')\n",
    "plt.ylabel('Precision')\n",
    "plt.legend()\n",
    "\n",
    "plt.tight_layout()\n",
    "plt.show()"
   ]
  }
 ],
 "metadata": {
  "kernelspec": {
   "display_name": "STS",
   "language": "python",
   "name": "python3"
  },
  "language_info": {
   "codemirror_mode": {
    "name": "ipython",
    "version": 3
   },
   "file_extension": ".py",
   "mimetype": "text/x-python",
   "name": "python",
   "nbconvert_exporter": "python",
   "pygments_lexer": "ipython3",
   "version": "3.10.14"
  }
 },
 "nbformat": 4,
 "nbformat_minor": 5
}
